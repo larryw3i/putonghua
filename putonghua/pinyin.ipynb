{
 "cells": [
  {
   "cell_type": "code",
   "execution_count": 28,
   "id": "statewide-restriction",
   "metadata": {},
   "outputs": [],
   "source": [
    "\n",
    "zh_str = '''\n",
    "做好个人防护，戴口罩、勤洗手、常通风、不聚集，保持安全社交距离，\n",
    "配合做好公共场所测温、验码，做到疫情防控意识和健康行为不放松。\n",
    "符合接种条件的，应积极主动到辖区接种点接种新冠病毒疫苗，\n",
    "降低自身感染和发病风险，共同筑牢人群免疫屏障。\n",
    "'''"
   ]
  },
  {
   "cell_type": "code",
   "execution_count": null,
   "id": "suspended-reconstruction",
   "metadata": {},
   "outputs": [
    {
     "name": "stdout",
     "output_type": "stream",
     "text": [
      "35.92%  537/1495 liao2.mp3       "
     ]
    }
   ],
   "source": [
    "import os,sys\n",
    "from xpinyin import Pinyin\n",
    "from playsound import playsound\n",
    "from pydub.playback import play\n",
    "from pydub import AudioSegment\n",
    "\n",
    "sound_path = '/home/larry/fun/larry/putonghua/putonghua/pinyin.new/'\n",
    "\n",
    "sound_names=os.listdir(sound_path)\n",
    "sound_name_len = len(sound_names)\n",
    "\n",
    "sounds = []\n",
    "\n",
    "for i,af in enumerate(sound_names):\n",
    "    pinyin_path = sound_path+af\n",
    "    sound = AudioSegment\\\n",
    "    .from_file(pinyin_path, format=\"mp3\")\n",
    "    sounds.append(sound)\n",
    "    print(f\"\\r{i/sound_name_len:.2%}  {i}/{sound_name_len} {af:<16}\",\\\n",
    "          end='', flush=True)\n"
   ]
  },
  {
   "cell_type": "code",
   "execution_count": 27,
   "id": "worth-mattress",
   "metadata": {},
   "outputs": [],
   "source": [
    "\n",
    "import os\n",
    "from xpinyin import Pinyin\n",
    "from playsound import playsound\n",
    "from pydub.playback import play\n",
    "from pydub import AudioSegment\n",
    "\n",
    "import os\n",
    "from xpinyin import Pinyin\n",
    "from playsound import playsound\n",
    "from pydub.playback import play\n",
    "from pydub import AudioSegment\n",
    "\n",
    "p = Pinyin()\n",
    "sounds_cp = sounds.copy()\n",
    "def num_to_zh(_str):\n",
    "    num_dict={\"0\":\"零\",\"1\":\"一\",\"2\":\"二\",\"3\":\"三\",\n",
    "              \"4\":\"四\",\"5\":\"五\",\"6\":\"六\",\"7\":\"七\",\n",
    "              \"8\":\"八\",\"9\":\"九\"}\n",
    "    for k in num_dict.keys():\n",
    "        _str = _str.replace(k,num_dict[k])\n",
    "    return _str\n",
    "\n",
    "zh_str = num_to_zh(zh_str)\n",
    "\n",
    "sound_names=os.listdir(sound_path)\n",
    "\n",
    "p = Pinyin()\n",
    "\n",
    "pinyin0 = p.get_pinyin(zh_str, tone_marks='numbers')\n",
    "\n",
    "for p in pinyin0.split('-'):\n",
    "    pinyin = p+'.mp3'\n",
    "    pinyin = pinyin.replace('5','4')\n",
    "    if pinyin in sound_names:\n",
    "        play(sounds_cp[sound_names.index(pinyin)])"
   ]
  },
  {
   "cell_type": "code",
   "execution_count": 52,
   "id": "egyptian-prime",
   "metadata": {},
   "outputs": [],
   "source": [
    "import pickle\n",
    "with open('./sounds.plk','wb') as f:\n",
    "    pickle.dump(sounds,f)"
   ]
  },
  {
   "cell_type": "code",
   "execution_count": 2,
   "id": "applied-surprise",
   "metadata": {},
   "outputs": [],
   "source": [
    "import pickle\n",
    "_sounds = None\n",
    "with open('./sounds.plk','rb') as f:\n",
    "    _sounds = pickle.load(f)"
   ]
  },
  {
   "cell_type": "code",
   "execution_count": null,
   "id": "photographic-inspection",
   "metadata": {},
   "outputs": [],
   "source": []
  }
 ],
 "metadata": {
  "kernelspec": {
   "display_name": "Python 3 (ipykernel)",
   "language": "python",
   "name": "python3"
  },
  "language_info": {
   "codemirror_mode": {
    "name": "ipython",
    "version": 3
   },
   "file_extension": ".py",
   "mimetype": "text/x-python",
   "name": "python",
   "nbconvert_exporter": "python",
   "pygments_lexer": "ipython3",
   "version": "3.9.10"
  }
 },
 "nbformat": 4,
 "nbformat_minor": 5
}
